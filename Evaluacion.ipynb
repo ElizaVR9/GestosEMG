{
 "cells": [
  {
   "cell_type": "code",
   "execution_count": 1,
   "id": "98a51aa1-c306-4f27-bd19-dad85f0494b8",
   "metadata": {},
   "outputs": [],
   "source": [
    "import pickle\n",
    "import numpy as np\n",
    "from sklearn.neural_network import MLPClassifier\n",
    "from sklearn.linear_model import LogisticRegression\n",
    "import matplotlib.pyplot as plt"
   ]
  },
  {
   "cell_type": "code",
   "execution_count": 2,
   "id": "384b6e6c-03ba-4fda-9d20-e59bf0852c9f",
   "metadata": {},
   "outputs": [],
   "source": [
    "gestos=[\"A\",\"An\",\"C\",\"Co\",\"I\",\"M\"]\n",
    "y=0;Y=[];fila=[]\n",
    "for g in gestos:\n",
    "    ne=0\n",
    "    for n in range(5):\n",
    "        senial=g+str(n+1)+\"_EMG.txt\"\n",
    "        with open('GitHub/'+senial, 'r', encoding='utf-8') as file:\n",
    "            archivo = file.read()\n",
    "            for f in archivo.split(\"\\n\"):\n",
    "                columna=[]\n",
    "                for c in f.split(\"  \"):\n",
    "                    if c!=\"\":\n",
    "                        columna.append(float(c))\n",
    "                umbra=sum(abs(ac) for ac in columna)/8\n",
    "                if umbra>=0.03:\n",
    "                    columna.append(umbra)\n",
    "                    fila.append(columna)\n",
    "                    ne+=1\n",
    "                    Y.append(y)\n",
    "    y+=1"
   ]
  },
  {
   "cell_type": "code",
   "execution_count": 3,
   "id": "4353ea89-a403-4cef-9a5b-ddbe584dd504",
   "metadata": {},
   "outputs": [],
   "source": [
    "X=np.array(fila)\n",
    "Y=np.array(Y)"
   ]
  },
  {
   "cell_type": "code",
   "execution_count": null,
   "id": "c7497780-b712-47fe-8394-eef4c889443f",
   "metadata": {},
   "outputs": [],
   "source": [
    "# Cargar el modelo\n",
    "mlp = pickle.load(open('mlp_model.pkl', 'rb'))  # 'rb' es para lectura binaria\n"
   ]
  },
  {
   "cell_type": "code",
   "execution_count": null,
   "id": "beec1be5-905b-430e-8c4d-2462cac03df5",
   "metadata": {},
   "outputs": [],
   "source": [
    "# Evalúa el modelo (no se necesita un conjunto de prueba, pero puedes usar el mismo conjunto para evaluar)\n",
    "accuracy = mlp.score(X,Y)\n",
    "print(\"Precisión:\", accuracy)"
   ]
  },
  {
   "cell_type": "code",
   "execution_count": null,
   "id": "69a0b116-61bb-4237-9a34-709e5e6e02e6",
   "metadata": {},
   "outputs": [],
   "source": []
  },
  {
   "cell_type": "code",
   "execution_count": null,
   "id": "0883d3dc-46df-44eb-9ed2-068176aa9631",
   "metadata": {},
   "outputs": [],
   "source": []
  },
  {
   "cell_type": "code",
   "execution_count": null,
   "id": "b0f7e81a-1a18-4090-a2df-9a3afcf6dc37",
   "metadata": {},
   "outputs": [],
   "source": []
  }
 ],
 "metadata": {
  "kernelspec": {
   "display_name": "Python 3 (ipykernel)",
   "language": "python",
   "name": "python3"
  },
  "language_info": {
   "codemirror_mode": {
    "name": "ipython",
    "version": 3
   },
   "file_extension": ".py",
   "mimetype": "text/x-python",
   "name": "python",
   "nbconvert_exporter": "python",
   "pygments_lexer": "ipython3",
   "version": "3.12.0"
  }
 },
 "nbformat": 4,
 "nbformat_minor": 5
}
